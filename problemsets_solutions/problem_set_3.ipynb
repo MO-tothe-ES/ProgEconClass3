{
 "cells": [
  {
   "cell_type": "markdown",
   "id": "b818d88f",
   "metadata": {},
   "source": [
    "# Problem set 3: Optimization and Root Finding: The Consumer Problem"
   ]
  },
  {
   "cell_type": "markdown",
   "id": "931dff7f",
   "metadata": {},
   "source": [
    "We will take a look at solving the canonical utility maximization problem for the consumer.  "
   ]
  },
  {
   "cell_type": "markdown",
   "id": "7b9dbbae",
   "metadata": {},
   "source": [
    "**Problem set structure:** \n",
    "* Each problem set consists of tasks and problems. _Tasks_ train you in using specific techniques, while _problems_ train you in solving actual economic problems. \n",
    "* Each problem set also contains solutions, which can be found in separate Python files.\n",
    "* The Python files `A[..].py` do not run out of the box. But you can copy the code into your notebook or user module. \n",
    "* *You should really try to solve the tasks and problems on your own before looking at the answers!* \n",
    "* You goal should, however, not be to write everything from scratch. \n",
    "* Finding similar code from the lectures and adjusting it is completely ok. I rarely begin  completely from scratch, I figure out when I last did something similar and copy in the code to begin with. A quick peak at the solution, and then trying to write the solution yourself is also a very beneficial approach."
   ]
  },
  {
   "cell_type": "markdown",
   "id": "9039be74",
   "metadata": {},
   "source": [
    "**Multiple solutions:** Within the field of numerical analysis there is often many more than one way of solving a specific problem. So the solution provided is just one example. If you get the same result, but use another approach, that might be just as good (or even better)."
   ]
  },
  {
   "cell_type": "code",
   "execution_count": 1,
   "id": "dc256bae",
   "metadata": {},
   "outputs": [],
   "source": [
    "import warnings\n",
    "warnings.filterwarnings(\"ignore\")"
   ]
  },
  {
   "cell_type": "markdown",
   "id": "7d98bd40",
   "metadata": {},
   "source": [
    "**Table of contents**<a id='toc0_'></a>    \n",
    "- [1. Functions](#toc1_)    \n",
    "- [2. Function continued](#toc2_)    \n",
    "- [3. Methods to solve and optimize](#toc3_)    \n",
    "  - [3.1 Brute‑Force Grid Search](#toc3_1_)    \n",
    "  - [3.2 Bisection](#toc3_2_)    \n",
    "  - [3.3 Newton's Method](#toc3_3_)    \n",
    "  - [3.4 scipy.optimize](#toc3_4_)    \n",
    "- [4. Other Optimizers - Comparing Methods (more difficult)](#toc4_)    \n",
    "- [5. Sensitivity: Price shock](#toc5_)    \n",
    "- [6. Sensitivity: Starting Values & Solver Choices](#toc6_)    \n",
    "\n",
    "<!-- vscode-jupyter-toc-config\n",
    "\tnumbering=false\n",
    "\tanchor=true\n",
    "\tflat=false\n",
    "\tminLevel=2\n",
    "\tmaxLevel=6\n",
    "\t/vscode-jupyter-toc-config -->\n",
    "<!-- THIS CELL WILL BE REPLACED ON TOC UPDATE. DO NOT WRITE YOUR TEXT IN THIS CELL -->"
   ]
  },
  {
   "cell_type": "markdown",
   "id": "e26f60ba",
   "metadata": {},
   "source": [
    "## <a id='toc1_'></a>[1. Functions](#toc0_)"
   ]
  },
  {
   "cell_type": "markdown",
   "id": "e19659f4",
   "metadata": {},
   "source": [
    "Implement a Python version of this function:"
   ]
  },
  {
   "cell_type": "markdown",
   "id": "e93b8267",
   "metadata": {},
   "source": [
    "$$ \n",
    "u(x_1,x_2) = (\\alpha x_1^{-\\beta} + (1-\\alpha) x_2^{-\\beta})^{-1/\\beta} \n",
    "$$"
   ]
  },
  {
   "cell_type": "code",
   "execution_count": 2,
   "id": "352dbad1",
   "metadata": {},
   "outputs": [],
   "source": [
    "# set autoreload so that changes in A*.py files are reflected without restarting the notebook\n",
    "# just a technicality, and not used in my (Casper) notebooks / solution - because i dont change modules\n",
    "%load_ext autoreload\n",
    "%autoreload 2"
   ]
  },
  {
   "cell_type": "code",
   "execution_count": 3,
   "id": "f8382aa0",
   "metadata": {},
   "outputs": [],
   "source": [
    "# write your own code here\n",
    "def u(x_1,x_2,alpha=0.5,beta=0.5):\n",
    "    if x_1 > 0 and x_2 > 0:\n",
    "        u = (alpha*x_1**(-beta) + (1-alpha)*x_2**(-beta))**(-1/beta)\n",
    "        return u\n",
    "\n",
    "# You do not need to assign the calculated value (or valueS if you input arrays)\n",
    "# This is the exact same thing:\n",
    "def u(x1,x2,alpha=0.5,beta=0.5):\n",
    "    if x1 > 0 and x2 > 0:\n",
    "        return (alpha*x1**(-beta)+(1-alpha)*x2**(-beta))**(-1/beta)\n",
    "\n",
    "# Note that i defined two functions with the same name!\n",
    "# Just like with variables python will overwrite the u function such that the last definitions holds"
   ]
  },
  {
   "cell_type": "code",
   "execution_count": 4,
   "id": "9c4f561b",
   "metadata": {},
   "outputs": [
    {
     "name": "stdout",
     "output_type": "stream",
     "text": [
      "4\n",
      "Function activated by: MO-tothe-ES\n",
      "-4\n"
     ]
    }
   ],
   "source": [
    "# example of overwriting functions:\n",
    "def my_function(a:int): # :int tells python to only return values involving the variable a\n",
    "    return 2*a          # if a is in fact an integer.\n",
    "                        # you could implement the same with if type(a) == 'int': return 2*a\n",
    "\n",
    "# Use the function to do calculations\n",
    "val1 = my_function(2)\n",
    "print(val1)\n",
    "\n",
    "# create a new function with the exact same name \"my_function\"\n",
    "def my_function(a:int, user_name:str): # the inclusion of user_name is just to demonstrate that the\n",
    "                                       # new function with the same name can take completely new inputs / arguments\n",
    "    print(f'Function activated by: {user_name}')\n",
    "    return -2*a\n",
    "\n",
    "val2 = my_function(2, 'MO-tothe-ES')\n",
    "print(val2)"
   ]
  },
  {
   "cell_type": "markdown",
   "id": "7620a9cd",
   "metadata": {},
   "source": [
    "## <a id='toc2_'></a>[2. Function continued](#toc0_)"
   ]
  },
  {
   "cell_type": "markdown",
   "id": "edd34181",
   "metadata": {},
   "source": [
    "Solve the above consumer problem with the CES utility function.\n",
    "\n",
    "$$\n",
    "u(x_1,x_2) = (\\alpha x_1^{-\\beta} + (1-\\alpha) x_2^{-\\beta})^{-1/\\beta}\n",
    "$$"
   ]
  },
  {
   "cell_type": "markdown",
   "id": "19d86588",
   "metadata": {},
   "source": [
    "Subject to the Budget Constraint:\n",
    "$$ p_1 x_1 + p_2 x_2 \\le I, \\quad x_1 \\ge 0,\\; x_2 \\ge 0. $$"
   ]
  },
  {
   "cell_type": "markdown",
   "id": "51611a7f",
   "metadata": {},
   "source": [
    "Tasks: Use your function from above that contains the CES utility function and embed it into another function *value_of_choice_ces* that returns the value of utility *u*."
   ]
  },
  {
   "cell_type": "code",
   "execution_count": 5,
   "id": "2ccbc359",
   "metadata": {},
   "outputs": [],
   "source": [
    "import numpy as np\n",
    "\n",
    "# Use these baseline parameters\n",
    "alpha = 0.5\n",
    "beta = 0.000001\n",
    "I = 10\n",
    "p1 = 1\n",
    "p2 = 2\n"
   ]
  },
  {
   "cell_type": "code",
   "execution_count": 6,
   "id": "667ae293",
   "metadata": {},
   "outputs": [
    {
     "name": "stdout",
     "output_type": "stream",
     "text": [
      "x2 calucated from x1, income and prices: 5.0\n",
      "\n",
      "CES Utility with budget constraint: 3.535533693620822\n"
     ]
    }
   ],
   "source": [
    "## write the functions here\n",
    "# We want to incoorperate the budget constraint (a mathematical restriction on the input values)\n",
    "# The function is monotone! ie. the partial derivatives are always non zero (in this case even strictly non zero)\n",
    "\n",
    "# Therefore rewrite the budget constraint in terms of x_1 (or x_2 if you want!)\n",
    "# p_1*x_1 + p_2*x_2 = I \\iff x_2 = I/p_2 - p_1/p_2 * x_1\n",
    "# and use this to calculate the implicit x_2 value given any x_1 value:\n",
    "def x2_implicit(x1, I=I, p1=p1, p2=p2):\n",
    "    return (I-p1*x1)/p2\n",
    "\n",
    "# Lets try it out!\n",
    "val = x2_implicit(5,I=10,p1=1,p2=1)\n",
    "print(f'x2 calucated from x1, income and prices: {val}\\n') # \\n mean \"newline\" and works in almost all programming languages\n",
    "                                                           # its just like pressing enter.\n",
    "\n",
    "def value_of_choice_ces(x1, alpha=0.5, beta=0.5, p1=1, p2=1, I=10):\n",
    "    x2 = x2_implicit(x1,I,p1,p2)\n",
    "    util = u(x1,x2,alpha,beta)\n",
    "    return util\n",
    "\n",
    "# use the function for some values\n",
    "val = value_of_choice_ces(5, alpha=alpha, beta=beta, p1=p1, p2=p2, I=I)\n",
    "print(f'CES Utility with budget constraint: {val}')"
   ]
  },
  {
   "cell_type": "markdown",
   "id": "f6daf1b4",
   "metadata": {},
   "source": [
    "Next, we will compare different methods to solve the consumer problem."
   ]
  },
  {
   "cell_type": "markdown",
   "id": "3fb6fa06",
   "metadata": {},
   "source": [
    "## <a id='toc3_'></a>[3. Methods to solve and optimize](#toc0_)"
   ]
  },
  {
   "cell_type": "markdown",
   "id": "6f56fff3",
   "metadata": {},
   "source": [
    "### <a id='toc3_1_'></a>[3.1 Brute‑Force Grid Search](#toc0_)\n",
    "Set up a grid of the budget set and solve the consumer problem on the grid.\n",
    "\n",
    "**Idea:** Search over a grid for  $c_1 \\in [0, I/p_1]$, and  $c_2 \\in [0, I/p_2]$ to find the values of $c_1$ and $c_2$ that maximize utility.\n"
   ]
  },
  {
   "cell_type": "code",
   "execution_count": 7,
   "id": "2208348f",
   "metadata": {},
   "outputs": [],
   "source": [
    "# As always: if you have not installed the required packages run the following line in your terminal\n",
    "# pip install types\n",
    "from types import SimpleNamespace\n",
    "\n",
    "# Remember grid_solve is a custom module, so it should be in the same folder as this notebook!\n",
    "# I stored it in a folder called custom_modules, hence the prefix \"custom_modules.\".\n",
    "from custom_modules.grid_solve import print_solution"
   ]
  },
  {
   "cell_type": "code",
   "execution_count": 8,
   "id": "8e8d6233",
   "metadata": {},
   "outputs": [
    {
     "name": "stdout",
     "output_type": "stream",
     "text": [
      "6 10 nine\n",
      "4 twæn 10\n"
     ]
    }
   ],
   "source": [
    "# What is SimpleNamespace()??\n",
    "# Basically just a quick way of doing this (you do not need to understand this!)\n",
    "class Cmo_SimpleNamespace:\n",
    "    def __init__(self, **kwargs):\n",
    "        for key, value in kwargs.items():\n",
    "            self.__dict__[key] = value\n",
    "\n",
    "# Trying out my own SimpleNamespace class\n",
    "instance_of_cmoClass = Cmo_SimpleNamespace(x1=6, x2=10, bob='nine')\n",
    "print(instance_of_cmoClass.x1,\n",
    "      instance_of_cmoClass.x2,\n",
    "      instance_of_cmoClass.bob)\n",
    "\n",
    "# Examples of using SimpleNamespace \n",
    "# (the exact same functionality as above but using the built-in SimpleNamespace class)\n",
    "instance_of_SimpleNamespace = SimpleNamespace(x1=4, x2='twæn', bob=10)\n",
    "print(instance_of_SimpleNamespace.x1,\n",
    "      instance_of_SimpleNamespace.x2,\n",
    "      instance_of_SimpleNamespace.bob)\n"
   ]
  },
  {
   "cell_type": "markdown",
   "id": "4a508740",
   "metadata": {},
   "source": [
    "**Task**: Modify the grid search function below to add the additional parameter for the CES utility function $\\beta$ and print the results. Note that you also need to use of the utility function. Make sure it runs below."
   ]
  },
  {
   "cell_type": "code",
   "execution_count": 9,
   "id": "89d578c5",
   "metadata": {},
   "outputs": [],
   "source": [
    "# We have to update (or overwrite) out utility function to handles zero consumption\n",
    "def u(x1,x2,alpha=0.5,beta=0.5):\n",
    "    if (x1 <= 0) or (x2 <= 0):\n",
    "        return -np.inf  # This evaluates to be smaller than any real number \n",
    "                        # (you could also just return None or 0,\n",
    "                        # but that would cause problems in comparisons with other values)\n",
    "    return (alpha*x1**(-beta) + (1-alpha)*x2**(-beta))**(-1/beta)"
   ]
  },
  {
   "cell_type": "code",
   "execution_count": 10,
   "id": "a1150b76",
   "metadata": {},
   "outputs": [],
   "source": [
    "def find_best_choice(u_func,alpha,beta,I,p1,p2,N1,N2,do_print=True):\n",
    "    \n",
    "    # a. allocate numpy arrays\n",
    "    shape_tuple = (N1,N2)\n",
    "    x1_values = np.empty(shape_tuple)\n",
    "    x2_values = np.empty(shape_tuple)\n",
    "    u_values = np.empty(shape_tuple)\n",
    "    \n",
    "    # b. start from guess of x1=x2=0 (whenever we find a combination that is better we update these values)\n",
    "    x1_best = 0\n",
    "    x2_best = 0\n",
    "    u_best = u_func(0,0,alpha=alpha,beta=beta)\n",
    "    \n",
    "    # c. loop through all possibilities (to evaluate the function values for all points on our grid)\n",
    "    for i in range(N1):\n",
    "        for j in range(N2):\n",
    "            \n",
    "            # i. x1 and x2 (chained assignment)\n",
    "            x1_values[i,j] = x1 = (i/(N1-1))*I/p1\n",
    "            x2_values[i,j] = x2 = (j/(N2-1))*I/p2\n",
    "            \n",
    "            if (x1 > 0) and (x2 > 0):\n",
    "                # ii. utility\n",
    "                if p1*x1 + p2*x2 <= I: # u(x1,x2) if expenditures <= income \n",
    "                    u_values[i,j] = u_func(x1,x2,alpha=alpha)\n",
    "                else: # u(0,0) if expenditures > income, not allowed\n",
    "                    u_values[i,j] = u_func(0,0,alpha=alpha)\n",
    "                \n",
    "                # iii. check if best sofar\n",
    "                if u_values[i,j] > u_best:\n",
    "                    x1_best = x1_values[i,j]\n",
    "                    x2_best = x2_values[i,j] \n",
    "                    u_best = u_values[i,j]\n",
    "            else:\n",
    "                continue # Skip to next iteration if x1 or x2 is non-positive\n",
    "    \n",
    "    # d. print\n",
    "    if do_print:\n",
    "        # using the function from grid_solve.py we imported in the beginning\n",
    "        print_solution(x1_best,x2_best,u_best,I,p1,p2) \n",
    "\n",
    "    # collect it all in a tidy manner using the SimpleNamespace class\n",
    "    return SimpleNamespace(x1_best=x1_best,x2_best=x2_best,u_best=u_best,\n",
    "                           x1_values=x1_values,x2_values=x2_values,u_values=u_values)"
   ]
  },
  {
   "cell_type": "code",
   "execution_count": 11,
   "id": "73609e7c",
   "metadata": {},
   "outputs": [
    {
     "name": "stdout",
     "output_type": "stream",
     "text": [
      "x1 = 4.4444\n",
      "x2 = 2.7778\n",
      "u  = 3.4656\n",
      "I-p1*x1-p2*x2 = 0.00000000\n",
      "x1*p1/I = 0.4444\n"
     ]
    }
   ],
   "source": [
    "# Apply the function:\n",
    "N1 = N2 = 10 # the same as assigning N1 and N2 to 5 seperately!\n",
    "\n",
    "# using our utility function (the CES utility function) and grid sizes N1, N2\n",
    "results_smallGrid = find_best_choice(u, alpha, beta, I, p1, p2, N1, N2, do_print=True) "
   ]
  },
  {
   "cell_type": "code",
   "execution_count": 12,
   "id": "f540faa9",
   "metadata": {},
   "outputs": [],
   "source": [
    "# Or if we really feel like punishing our computer\n",
    "# N1 = N2 = 10000 # insane that your computer can do 10000x10,000 = 100 million function evaluations in a about 3 minutes!!!!!!!!!!\n",
    "# results_largeGrid = find_best_choice(u, alpha, beta, I, p1, p2, N1, N2, do_print=True)"
   ]
  },
  {
   "cell_type": "markdown",
   "id": "9bb8241c",
   "metadata": {},
   "source": [
    "### <a id='toc3_2_'></a>[3.2 Bisection](#toc0_)\n",
    "\n",
    "Use the bisection function from the lecture. Make sure you understand what it does first. Then, define the first‑order condition of the consumer problem with the modified utility function, which we can enforce by a **single equation in $ x_1 $**:  \n"
   ]
  },
  {
   "cell_type": "markdown",
   "id": "0e2552aa",
   "metadata": {},
   "source": [
    "FOC (interior):\n",
    "$$\\frac{\\partial u/\\partial x_1}{\\partial u/\\partial x_2}\n",
    "=\\frac{\\alpha\\,x_1^{-(\\beta+1)}}{(1-\\alpha)\\,x_2^{-(\\beta+1)}}\n",
    "=\\frac{\\alpha}{1-\\alpha}\\left(\\frac{x_2}{x_1}\\right)^{\\beta+1}\n",
    "=\\frac{p_1}{p_2}.$$\n",
    "\n",
    "Single equation in $x_1$ (with $x_2(x_1)=\\tfrac{I-p_1x_1}{p_2}$):\n",
    "$$F(x_1)\\equiv \\frac{\\alpha}{1-\\alpha}\\left(\\frac{I-p_1x_1}{p_2x_1}\\right)^{\\beta+1}-\\frac{p_1}{p_2}=0.$$"
   ]
  },
  {
   "cell_type": "markdown",
   "id": "b177a120",
   "metadata": {},
   "source": [
    "We solve $ F(x_1) = 0 $ on $[0, I/p_1]$ using **bisection**.\n"
   ]
  },
  {
   "cell_type": "markdown",
   "id": "7f979a6f",
   "metadata": {},
   "source": [
    "\n",
    "**Algorithm:** `bisection()`\n",
    "\n",
    "1. Set $a_0 = a$ and $b_0 = b$ where $f(a)$ and $f(b)$ has oposite sign, $f(a_0)f(b_0)<0$\n",
    "2. Compute $f(m_0)$ where $m_0 = (a_0 + b_0)/2$ is the midpoint.\n",
    "3. Determine the next sub-interval $[a_1,b_1]$:\n",
    "  * If $f(a_0)f(m_0) < 0$ (different signs) then $a_1 = a_0$ and $b_1 = m_0$ (i.e. focus on the range $[a_0,m_0]$).\n",
    "  * If $f(m_0)f(b_0) < 0$ (different signs) then $a_1 = m_0$ and $b_1 = b_0$ (i.e. focus on the range $[m_0,b_0]$).\n",
    "4. Repeat step 2 and step 3 until $|f(m_k)| < \\epsilon$.\n",
    "\n",
    "## Assumptions for the algorithm to work\n",
    "* f(x) is continuous on the interval of interes [a,b] (inside which we want to find the root)\n",
    "* f(a) * f(b) has opposite signs"
   ]
  },
  {
   "cell_type": "code",
   "execution_count": 13,
   "id": "d322f797",
   "metadata": {},
   "outputs": [],
   "source": [
    "def bisection(f, a, b, tol=1e-10, max_iter=500):\n",
    "    fa, fb = f(a), f(b)\n",
    "    if np.isnan(fa) or np.isnan(fb):\n",
    "        raise ValueError(\"f(a) or f(b) is NaN.\")\n",
    "    if fa == 0.0: \n",
    "        return a, 0\n",
    "    if fb == 0.0: \n",
    "        return b, 0\n",
    "    if fa*fb > 0:\n",
    "        raise ValueError(\"Bisection: root not bracketed. Choose a,b with opposite signs.\")\n",
    "    it = 0\n",
    "    while (b - a) > tol and it < max_iter:\n",
    "        m  = 0.5*(a + b)\n",
    "        fm = f(m)\n",
    "        if fm == 0.0:\n",
    "            a = b = m\n",
    "            break\n",
    "        if fa*fm < 0:\n",
    "            b, fb = m, fm\n",
    "        else:\n",
    "            a, fa = m, fm\n",
    "        it += 1\n",
    "    return 0.5*(a + b), it"
   ]
  },
  {
   "cell_type": "code",
   "execution_count": 14,
   "id": "aeb8ce5b",
   "metadata": {},
   "outputs": [
    {
     "name": "stdout",
     "output_type": "stream",
     "text": [
      "Bisection: x1*=4.9999982671, x2*=2.5000008664, iterations=52\n"
     ]
    }
   ],
   "source": [
    "# Set up the function F(c1) to solve for c1* so that F(c1*) = 0\n",
    "## write your functions here\n",
    "def F(x1, alpha=0.5, beta=0.000001, I=10, p1=1, p2=2):\n",
    "    if np.isscalar(x1):\n",
    "        if x1 <= 0:\n",
    "            return np.inf  # This evaluates to be larger than any real number: \n",
    "                        # needed because F -> infinity as x1 -> 0 (for beta > -1 and alpha in (0,1))\n",
    "                        # (you could also just return None or 0, \n",
    "                        # but that would cause problems in comparisons with other values)\n",
    "    f_value = alpha/(1-alpha)*((I-p1*x1)/(p2*x1))**(beta+1)-p1/p2\n",
    "    return f_value\n",
    "\n",
    "# Choose a bracket around the known solution\n",
    "a_bis, b_bis = [0, I/p1] # Solving for derivative root (maximum of utility function)\n",
    "                         # inside the interval of zero x1 consumption and maximum x1 consumption I/p1\n",
    "# verify that F(a)F(b) < 0\n",
    "assert(F(a_bis)*F(b_bis) < 0), \"F(a) and F(b) must have opposite signs\"\n",
    "\n",
    "# set the tolerance and the maximum number of iterations\n",
    "## run the bisection method, compute x2 and print the solution\n",
    "x1_bis, it_bis = bisection(F, a_bis, b_bis, tol=1e-20, max_iter=500)\n",
    "\n",
    "# we compute the amount of x2 consumed using the budget constraint (we defined this function earlier)\n",
    "x2_bis = x2_implicit(x1_bis, I, p1, p2)\n",
    "print(f\"Bisection: x1*={x1_bis:.10f}, x2*={x2_bis:.10f}, iterations={it_bis}\")"
   ]
  },
  {
   "cell_type": "markdown",
   "id": "91becfa0",
   "metadata": {},
   "source": [
    "### <a id='toc3_3_'></a>[3.3 Newton's Method](#toc0_)\n",
    "\n",
    "Apply Newton on $ F(c_1)=0 $ where $F$ is defined above.  \n",
    "We compute $ F'(c_1)$ analytically for the CES consumer problem:\n",
    "\n",
    "**Fully expanded form**\n",
    "$\n",
    "F'(c_1)\\;=\\;-\\;\\frac{\\alpha}{1-\\alpha}\\,(\\beta+1)\\,\\frac{I}{p_2\\,c_1^{2}}\n",
    "\\left(\\frac{I-p_1 c_1}{p_2\\,c_1}\\right)^{\\beta}.\n",
    "$"
   ]
  },
  {
   "cell_type": "markdown",
   "id": "4139a228",
   "metadata": {},
   "source": [
    "### <a id='toc3_3_1_'></a>[3.3.1 What is the Newton method?](#toc0_)\n",
    "The method works by approximating a given function by its first order taylor approximation. \n",
    "We set this equal to zero and solve for the value 'b' that satisfyes this equation.\n",
    "This will be an approximation of the root, so we iterate - unless f is a linear function, then we have found the root!\n",
    "\n",
    "### The first order Taylor approximation equal to zero:\n",
    "$f(b) = f(a) + f'(a)(b-a) = 0 \\iff b = \\frac{f(a)}{f'(a)}-a$ \n",
    "\n",
    "To make the \"dynamics\" explicit let $a=x_t$ and $b=x_{t+1}$ then we have the algorithm given by:\n",
    "$x_{t+1} = x_t - \\frac{f(x_t)}{f'(x_t)}$"
   ]
  },
  {
   "cell_type": "code",
   "execution_count": 15,
   "id": "87b21128",
   "metadata": {},
   "outputs": [],
   "source": [
    "# Newton's method with numeric derivative and plotting\n",
    "import numpy as np\n",
    "import matplotlib.pyplot as plt\n",
    "plt.style.use('dark_background')\n",
    "\n",
    "# Example robust F function\n",
    "def F(x1, alpha=0.5, beta=1e-6, I=10, p1=1, p2=2):\n",
    "    x1 = np.array(x1, dtype=float)\n",
    "    out = np.full_like(x1, np.inf)\n",
    "    mask = x1 > 0\n",
    "    out[mask] = alpha/(1-alpha)*((I-p1*x1[mask])/(p2*x1[mask]))**(beta+1) - p1/p2\n",
    "    return out if out.size > 1 else out.item()\n",
    "\n",
    "# Numeric derivative\n",
    "def F_numeric_derivative(x1, epsilon=1e-8, alpha=0.5, beta=1e-6, I=10, p1=1, p2=2):\n",
    "    return (F(x1+epsilon, alpha, beta, I, p1, p2) - F(x1, alpha, beta, I, p1, p2)) / epsilon\n",
    "\n",
    "def newton(f, fprime, x0, tol=1e-10, max_iter=50, do_plot=True):\n",
    "    x = x0\n",
    "    it = 0\n",
    "    x_lowest = x0\n",
    "    x_highest = x0\n",
    "\n",
    "    if do_plot:\n",
    "        plt.ion()  # interactive mode on\n",
    "        fig, ax = plt.subplots(figsize=(8,4.5))\n",
    "        a, b = 0.1, 11\n",
    "        xs = np.linspace(a, b, 400)\n",
    "        ys = f(xs)\n",
    "        ax.plot(xs, ys, label='F(x)', color='darkred', linewidth=4)\n",
    "        ax.axhline(0, color='white', linestyle='-', linewidth=1)\n",
    "        ax.set_xlabel('x')\n",
    "        ax.set_ylabel('F(x)')\n",
    "\n",
    "    for it in range(1, max_iter+1):\n",
    "        fx = f(x)\n",
    "        fpx = fprime(x)\n",
    "        if fpx == 0:\n",
    "            raise ValueError(\"Derivative is zero\")\n",
    "        x_new = x - fx / fpx\n",
    "\n",
    "        if do_plot:\n",
    "            # plot current iterate\n",
    "            ax.plot(x, fx, 'ro')  # current point\n",
    "            # plot tangent line: y = f(x) + f'(x)*(X-x)\n",
    "            tangent_xs = np.linspace(x-10, x+10, 50)\n",
    "            tangent_ys = fx + fpx*(tangent_xs - x)\n",
    "            ax.plot(tangent_xs, tangent_ys, '--', alpha=0.7**it, color='white', linewidth=1.4)\n",
    "            ax.set_title(f'Newton Root Finding | Iteration {it}: x={x:.4f}, f(x)={fx:.4f}')\n",
    "            # plt.pause(0.3)\n",
    "\n",
    "            if x < x_lowest:\n",
    "                x_lowest = x\n",
    "            if x > x_highest:\n",
    "                x_highest = x\n",
    "\n",
    "        if abs(x_new - x) < tol:\n",
    "            x = x_new\n",
    "            break\n",
    "        x = x_new\n",
    "\n",
    "    if do_plot:\n",
    "        # mark final root\n",
    "        ax.plot(x, f(x), 'wo', label='Root found')\n",
    "        ax.legend()\n",
    "        \n",
    "        # Dynamic y-limits\n",
    "        left_y = f(x_lowest)   # most left x point\n",
    "        right_y = f(x_highest) # most right x point\n",
    "        ymin = min(left_y, right_y, -0.5)  # ensure lower bound is reasonable\n",
    "        ymax = max(left_y, right_y, 0.5)   # ensure upper bound is reasonable\n",
    "        ax.set_ylim(ymin - 0.05*abs(ymin), ymax + 0.05*abs(ymax))  # add 5% padding\n",
    "        ax.set_xlim(x_lowest -0.5, x_highest +0.5)\n",
    "        \n",
    "        plt.ioff()\n",
    "        plt.show()\n",
    "        \n",
    "    if do_plot:\n",
    "        return x, it, fig\n",
    "    else:\n",
    "        return x, it, \"no_fig\"\n"
   ]
  },
  {
   "cell_type": "code",
   "execution_count": 16,
   "id": "fe62f1b4",
   "metadata": {},
   "outputs": [
    {
     "data": {
      "image/png": "[encoded data removed]",
      "text/plain": [
       "<Figure size 800x450 with 1 Axes>"
      ]
     },
     "metadata": {},
     "output_type": "display_data"
    },
    {
     "name": "stdout",
     "output_type": "stream",
     "text": [
      "Root found: 4.999998267131661 in iterations: 7\n"
     ]
    }
   ],
   "source": [
    "# --- run newton's method --- #\n",
    "initial_guess = 1 # adjust this to see the method at work! (between 0 and 10)\n",
    "x1_newt, it_newt, fig = newton(F, F_numeric_derivative,\n",
    "                                initial_guess, tol=1e-3,\n",
    "                                max_iter=20,\n",
    "                                do_plot=True)\n",
    "print(\"Root found:\", x1_newt, \"in iterations:\", it_newt)"
   ]
  },
  {
   "cell_type": "markdown",
   "id": "8260192f",
   "metadata": {},
   "source": [
    "### <a id='toc3_4_'></a>[3.4 scipy.optimize](#toc0_)\n",
    "\n",
    "Solve the consumer problem now using the scipy.minimize_scalar function. Define adequate bounds.\n",
    "\n"
   ]
  },
  {
   "cell_type": "code",
   "execution_count": 17,
   "id": "2f84c13f",
   "metadata": {},
   "outputs": [
    {
     "name": "stdout",
     "output_type": "stream",
     "text": [
      "5.000003792806647 2.4999981035966763 3.535533693620822\n"
     ]
    }
   ],
   "source": [
    "from scipy import optimize\n",
    "\n",
    "# remember that most numeric optimizers are minimizers - therefore we negate the function\n",
    "# - to find the maximum of f (the minimum of -f)\n",
    "objective_function = lambda x1: -value_of_choice_ces(x1,alpha,beta,I,p1,p2)\n",
    "\n",
    "# or equivilantly:\n",
    "def objective_function(x1):\n",
    "    return -value_of_choice_ces(x1,alpha,beta,p1,p2,I) # my variable order is different from Jeppes!!\n",
    "\n",
    "# remember that value_of_choice_ces returns the consumers utility given x1, prices and income.\n",
    "# earlier we wrote:\n",
    "# def value_of_choice_ces(x1, alpha=0.5, beta=0.5, p1=1, p2=1, I=10):\n",
    "#     x2 = x2_implicit(x1,I,p1,p2)\n",
    "#     util = u(x1,x2,alpha,beta)\n",
    "#     return util\n",
    "\n",
    "# run the scipy optimizer inside the bounds of possible x1 values\n",
    "sol = optimize.minimize_scalar(objective_function,bounds=(0.2,I/p1))\n",
    "\n",
    "# print the solution\n",
    "u_ces = -sol.fun\n",
    "x1_ces = sol.x\n",
    "x2_ces = (I-x1_ces*p1)/p2\n",
    "print(x1_ces,x2_ces,u_ces)"
   ]
  },
  {
   "cell_type": "markdown",
   "id": "25de87c3",
   "metadata": {},
   "source": [
    "\n",
    "## <a id='toc4_'></a>[4. Other Optimizers - Comparing Methods (more difficult)](#toc0_)\n",
    "\n",
    "Solve the problem now with *SLSQP* and compare the number of iterations, function evaluations, speed, and precision with *Nelder-Mead*.\n"
   ]
  },
  {
   "cell_type": "code",
   "execution_count": 18,
   "id": "8b644aa1",
   "metadata": {},
   "outputs": [
    {
     "data": {
      "text/html": [
       "<div>\n",
       "<style scoped>\n",
       "    .dataframe tbody tr th:only-of-type {\n",
       "        vertical-align: middle;\n",
       "    }\n",
       "\n",
       "    .dataframe tbody tr th {\n",
       "        vertical-align: top;\n",
       "    }\n",
       "\n",
       "    .dataframe thead th {\n",
       "        text-align: right;\n",
       "    }\n",
       "</style>\n",
       "<table border=\"1\" class=\"dataframe\">\n",
       "  <thead>\n",
       "    <tr style=\"text-align: right;\">\n",
       "      <th></th>\n",
       "      <th>Method</th>\n",
       "      <th>Time (s)</th>\n",
       "      <th>x1*</th>\n",
       "      <th>x2*</th>\n",
       "      <th>u*</th>\n",
       "    </tr>\n",
       "  </thead>\n",
       "  <tbody>\n",
       "    <tr>\n",
       "      <th>0</th>\n",
       "      <td>Bisection</td>\n",
       "      <td>NA</td>\n",
       "      <td>4.999998</td>\n",
       "      <td>2.500001</td>\n",
       "      <td>3.535534</td>\n",
       "    </tr>\n",
       "    <tr>\n",
       "      <th>1</th>\n",
       "      <td>Newton</td>\n",
       "      <td>NA</td>\n",
       "      <td>4.999998</td>\n",
       "      <td>2.500001</td>\n",
       "      <td>3.535534</td>\n",
       "    </tr>\n",
       "    <tr>\n",
       "      <th>2</th>\n",
       "      <td>SLSQP</td>\n",
       "      <td>0.008131</td>\n",
       "      <td>4.987772</td>\n",
       "      <td>2.506114</td>\n",
       "      <td>3.535523</td>\n",
       "    </tr>\n",
       "    <tr>\n",
       "      <th>3</th>\n",
       "      <td>Nelder-Mead</td>\n",
       "      <td>0.004418</td>\n",
       "      <td>5.000000</td>\n",
       "      <td>2.500000</td>\n",
       "      <td>3.535534</td>\n",
       "    </tr>\n",
       "  </tbody>\n",
       "</table>\n",
       "</div>"
      ],
      "text/plain": [
       "        Method  Time (s)       x1*       x2*        u*\n",
       "0    Bisection        NA  4.999998  2.500001  3.535534\n",
       "1       Newton        NA  4.999998  2.500001  3.535534\n",
       "2        SLSQP  0.008131  4.987772  2.506114  3.535523\n",
       "3  Nelder-Mead  0.004418  5.000000  2.500000  3.535534"
      ]
     },
     "execution_count": 18,
     "metadata": {},
     "output_type": "execute_result"
    }
   ],
   "source": [
    "import time # to compare the speed of different methods\n",
    "\n",
    "# using SLSQP method to handle bounds #\n",
    "# redefine the objective function to take alpha and beta as arguments\n",
    "obj = lambda x1, alpha, beta: -value_of_choice_ces(x1,alpha,beta,p1,p2,I)\n",
    "eps = 1e-6 # just a small number to avoid hitting the boundary\n",
    "x0 = 2 # initial guess (try to vary this when comparing methods)\n",
    "\n",
    "# run the optimizer\n",
    "start_slsqp = time.perf_counter()\n",
    "sol_slsqp = optimize.minimize(obj,x0=x0,args=(alpha, beta),bounds=[(eps, I/p1 - eps)],method=\"SLSQP\")\n",
    "end_slsqp = time.perf_counter()\n",
    "\n",
    "\n",
    "start_NM = time.perf_counter()\n",
    "sol_NM = optimize.minimize(obj,x0=x0,args=(alpha, beta),bounds=[(eps, I/p1 - eps)],method=\"Nelder-Mead\")\n",
    "end_NM = time.perf_counter()\n",
    "\n",
    "import pandas as pd\n",
    "df_results = ((\"Method\", \"Time (s)\", \"x1*\", \"x2*\", \"u*\"),\n",
    "              (\"Bisection\", \"NA\", x1_bis, x2_bis, u(x1_bis,x2_bis,alpha,beta)),\n",
    "              (\"Newton\", \"NA\", x1_newt, x2_implicit(x1_newt,I,p1,p2), u(x1_newt,x2_implicit(x1_newt,I,p1,p2),alpha,beta)),\n",
    "              (\"SLSQP\", end_slsqp-start_slsqp, sol_slsqp.x.item(), x2_implicit(sol_slsqp.x.item(),I,p1,p2), -sol_slsqp.fun),\n",
    "              (\"Nelder-Mead\", end_NM-start_NM, sol_NM.x.item(), x2_implicit(sol_NM.x.item(),I,p1,p2), -sol_NM.fun)\n",
    "             )\n",
    "df_results = pd.DataFrame(columns=df_results[0], data=df_results[1:])\n",
    "df_results"
   ]
  },
  {
   "cell_type": "markdown",
   "id": "fae8428a",
   "metadata": {},
   "source": [
    "## <a id='toc5_'></a>[5. Sensitivity: Price shock](#toc0_)\n",
    "\n",
    "- Now, assume that the price p1 doubles. Recompute (x1_star, x2_star, u_star) for each $\\beta$.\n",
    "- For each $\\beta$, compute percentage changes relative to baseline.\n",
    "- Plot two panels, where panel A contains quantities (the percentage change in x1_star and x2_star) and panel B contains the percentage change in u_star.\n",
    "- Interpretation: Briefly explain how the substitution elasticity (lower beta) shapes x1_star, x2_star, and the utility."
   ]
  },
  {
   "cell_type": "code",
   "execution_count": 19,
   "id": "0c02f007",
   "metadata": {},
   "outputs": [
    {
     "data": {
      "image/png": "[encoded data removed]",
      "text/plain": [
       "<Figure size 700x400 with 1 Axes>"
      ]
     },
     "metadata": {},
     "output_type": "display_data"
    },
    {
     "data": {
      "image/png": "[encoded data removed]",
      "text/plain": [
       "<Figure size 700x400 with 1 Axes>"
      ]
     },
     "metadata": {},
     "output_type": "display_data"
    }
   ],
   "source": [
    "import numpy as np\n",
    "import pandas as pd\n",
    "import matplotlib.pyplot as plt\n",
    "from matplotlib.ticker import PercentFormatter\n",
    "\n",
    "# helper from the notebook environment for nicer DataFrame display (if available)\n",
    "\n",
    "# ----- Economic setup & intuition -----\n",
    "# CES utility: u(x1,x2) = ( alpha * x1^(-beta) + (1-alpha) * x2^(-beta) )^(-1/beta)\n",
    "# Elasticity of substitution: sigma = 1 / (1 + beta)\n",
    "# When sigma is high (beta small) goods are easier to substitute, so a price rise of good 1\n",
    "# will cause a larger substitution away from x1 and into x2. When sigma is low (beta large),\n",
    "# goods are more \"complement-like\" and quantities adjust less.\n",
    "#\n",
    "# We'll compute the Hicksian/indirect-utility-based demands using the standard CES dual formulas:\n",
    "#  - budget share of good 1: s1 = alpha^sigma * p1^(1-sigma) / denom\n",
    "#  - x1 = (I / p1) * s1\n",
    "#  - indirect utility: u = I / C(p) with C(p) = [ alpha^sigma p1^(1-sigma) + (1-alpha)^sigma p2^(1-sigma) ]^(1/(1-sigma))\n",
    "\n",
    "# ----- Parameters -----\n",
    "alpha = 0.5     # preference weight on good 1 (symmetric here)\n",
    "I = 10.0        # income\n",
    "p1 = 1.0        # baseline price of good 1\n",
    "p2 = 2.0        # price of good 2 (unchanged)\n",
    "betas = np.array([0.1, 0.3, 0.5, 0.7, 0.9])  # the different betas to examine (0 < beta < 1)\n",
    "\n",
    "# ----- Functions -----\n",
    "def sigma_from_beta(beta):\n",
    "    \"\"\"Elasticity of substitution from beta\"\"\"\n",
    "    return 1.0 / (1.0 + beta)\n",
    "\n",
    "def ces_optimal_choices(I, p1, p2, alpha, beta):\n",
    "    \"\"\"\n",
    "    Return tuple (x1, x2, u, s1, s2) for CES preferences using dual formulas.\n",
    "    - x1, x2 are Marshallian demands implied by indirect utility and budget shares\n",
    "    - u is the indirect utility (I / cost-of-achieving 1 unit of utility)\n",
    "    \"\"\"\n",
    "    sigma = sigma_from_beta(beta)\n",
    "    denom = (alpha ** sigma) * (p1 ** (1.0 - sigma)) + ((1.0 - alpha) ** sigma) * (p2 ** (1.0 - sigma))\n",
    "    s1 = (alpha ** sigma) * (p1 ** (1.0 - sigma)) / denom\n",
    "    s2 = 1.0 - s1\n",
    "    x1 = (I / p1) * s1\n",
    "    x2 = (I / p2) * s2\n",
    "    cost = denom ** (1.0 / (1.0 - sigma))\n",
    "    u = I / cost\n",
    "    return x1, x2, u, s1, s2\n",
    "\n",
    "# ----- Baseline and after shock (double p1) -----\n",
    "baseline_results = np.array([ces_optimal_choices(I, p1,     p2, alpha, b) for b in betas])\n",
    "shock_results    = np.array([ces_optimal_choices(I, 2.0*p1, p2, alpha, b) for b in betas])\n",
    "\n",
    "# unpack columns: x1, x2, u\n",
    "x1_base = baseline_results[:,0]\n",
    "x2_base = baseline_results[:,1]\n",
    "u_base  = baseline_results[:,2]\n",
    "\n",
    "x1_shock = shock_results[:,0]\n",
    "x2_shock = shock_results[:,1]\n",
    "u_shock  = shock_results[:,2]\n",
    "\n",
    "# percent change helper\n",
    "pct_change = lambda new, old: 100.0 * (new - old) / old\n",
    "\n",
    "pct_x1 = pct_change(x1_shock, x1_base)\n",
    "pct_x2 = pct_change(x2_shock, x2_base)\n",
    "pct_u  = pct_change(u_shock,  u_base)\n",
    "\n",
    "# Prepare a tidy table to inspect numbers\n",
    "df = pd.DataFrame({\n",
    "    \"beta\": betas,\n",
    "    \"sigma\": np.round([sigma_from_beta(b) for b in betas], 4),\n",
    "    \"x1_base\": np.round(x1_base, 6),\n",
    "    \"x1_shock\": np.round(x1_shock, 6),\n",
    "    \"pct_change_x1 (%)\": np.round(pct_x1, 4),\n",
    "    \"x2_base\": np.round(x2_base, 6),\n",
    "    \"x2_shock\": np.round(x2_shock, 6),\n",
    "    \"pct_change_x2 (%)\": np.round(pct_x2, 4),\n",
    "    \"u_base\": np.round(u_base, 6),\n",
    "    \"u_shock\": np.round(u_shock, 6),\n",
    "    \"pct_change_u (%)\": np.round(pct_u, 4),\n",
    "})\n",
    "\n",
    "# ----- Plot 1: % change in quantities (x1 and x2) after p1 doubles -----\n",
    "plt.figure(figsize=(7,4))\n",
    "plt.plot(betas, pct_x1, marker='o', label='% change in x1')\n",
    "plt.plot(betas, pct_x2, marker='o', label='% change in x2')\n",
    "plt.title('Quantities after p1 doubles')\n",
    "plt.xlabel('beta  (smaller beta → larger sigma → easier substitution)')\n",
    "plt.ylabel('% change from baseline')\n",
    "plt.axhline(0, linewidth=1)\n",
    "plt.gca().yaxis.set_major_formatter(PercentFormatter())\n",
    "plt.xticks(betas.tolist())\n",
    "plt.grid(True, alpha=0.3)\n",
    "plt.legend(frameon=False)\n",
    "plt.tight_layout()\n",
    "plt.show()\n",
    "\n",
    "# ----- Plot 2: % change in (indirect) utility after p1 doubles -----\n",
    "plt.figure(figsize=(7,4))\n",
    "plt.plot(betas, pct_u, marker='o', label='% change in indirect utility (u)')\n",
    "plt.title('Utility after p1 doubles')\n",
    "plt.xlabel('beta')\n",
    "plt.ylabel('% change')\n",
    "plt.axhline(0, linewidth=1)\n",
    "plt.gca().yaxis.set_major_formatter(PercentFormatter())\n",
    "plt.xticks(betas.tolist())\n",
    "plt.grid(True, alpha=0.3)\n",
    "plt.legend(frameon=False)\n",
    "plt.tight_layout()\n",
    "plt.show()\n"
   ]
  },
  {
   "cell_type": "markdown",
   "id": "93b06643",
   "metadata": {},
   "source": [
    "## <a id='toc6_'></a>[6. Sensitivity: Starting Values & Solver Choices](#toc0_)\n",
    "\n",
    "- Try different starting values for Newton and `minimize`.\n",
    "- Discuss your main observations and take-aways regarding number of iterations and function evaluations.\n",
    "- Which one was your favorite solver in this application? Why?\n"
   ]
  },
  {
   "cell_type": "code",
   "execution_count": 20,
   "id": "e97efecf",
   "metadata": {},
   "outputs": [
    {
     "name": "stdout",
     "output_type": "stream",
     "text": [
      "Root found: 4.999998267133758 in iterations: 6\n",
      "Root found: [5.14170911] in iterations: 4\n"
     ]
    }
   ],
   "source": [
    "# go crazy:\n",
    "initial_guess = 2 # adjust this to see the method at work! (between 0 and 10)\n",
    "x1_newt, it_newt, fig = newton(F, F_numeric_derivative, initial_guess, tol=1e-3, max_iter=20, do_plot=False)\n",
    "print(\"Root found:\", x1_newt, \"in iterations:\", it_newt)\n",
    "\n",
    "x1_minimize = optimize.minimize(objective_function, x0=initial_guess, bounds=[(0.1,I/p1)])\n",
    "print(\"Root found:\", x1_minimize.x, \"in iterations:\", x1_minimize.nit)"
   ]
  }
 ],
 "metadata": {
  "kernelspec": {
   "display_name": "cmo_env",
   "language": "python",
   "name": "python3"
  },
  "language_info": {
   "codemirror_mode": {
    "name": "ipython",
    "version": 3
   },
   "file_extension": ".py",
   "mimetype": "text/x-python",
   "name": "python",
   "nbconvert_exporter": "python",
   "pygments_lexer": "ipython3",
   "version": "3.13.7"
  }
 },
 "nbformat": 4,
 "nbformat_minor": 5
}
